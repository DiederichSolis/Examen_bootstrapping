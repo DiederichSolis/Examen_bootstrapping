{
  "nbformat": 4,
  "nbformat_minor": 0,
  "metadata": {
    "colab": {
      "provenance": []
    },
    "kernelspec": {
      "name": "python3",
      "display_name": "Python 3"
    },
    "language_info": {
      "name": "python"
    }
  },
  "cells": [
    {
      "cell_type": "markdown",
      "source": [
        "## a) Set de 10 valores dados por el catedrático\n",
        "Los siguientes son los 10 valores base para el ejercicio:"
      ],
      "metadata": {
        "id": "-lpXGR-GgsqN"
      }
    },
    {
      "cell_type": "code",
      "source": [
        "import numpy as np\n",
        "import matplotlib.pyplot as plt\n",
        "\n",
        "# Semilla para reproducibilidad\n",
        "np.random.seed(42)\n",
        "\n",
        "# (a) Set de 10 valores\n",
        "data = np.array([8, 8, 5, 9, 8, 10, 8, 7, 10, 1], dtype=float)\n",
        "\n",
        "print(\"Valores (a):\", data.tolist())\n",
        "print(\"Media original:\", data.mean())\n"
      ],
      "metadata": {
        "colab": {
          "base_uri": "https://localhost:8080/"
        },
        "id": "xALIP_hggxDn",
        "outputId": "72b1d5ec-4e36-4aa4-948a-14bcb99b1f05"
      },
      "execution_count": 4,
      "outputs": [
        {
          "output_type": "stream",
          "name": "stdout",
          "text": [
            "Valores (a): [8.0, 8.0, 5.0, 9.0, 8.0, 10.0, 8.0, 7.0, 10.0, 1.0]\n",
            "Media original: 7.4\n"
          ]
        }
      ]
    },
    {
      "cell_type": "markdown",
      "source": [
        "## b) Set de 10 valores de probabilidad dados por el catedrático\n",
        "Las probabilidades asociadas (para usar con Transformada Inversa) son:"
      ],
      "metadata": {
        "id": "ub169dXvgy2y"
      }
    },
    {
      "cell_type": "code",
      "source": [
        "# (b) Probabilidades (puede haber pequeño redondeo; se normaliza)\n",
        "p = np.array([0.4, 0.17, 0.01, 0.04, 0.08, 0.01, 0.04, 0.02, 0.01, 0.21999999999999986], dtype=float)\n",
        "p = p / p.sum()  # normalizar por si hay mínimos errores de redondeo\n",
        "\n",
        "print(\"Probabilidades (b):\", p.tolist())\n",
        "print(\"Suma probabilidades:\", p.sum())\n"
      ],
      "metadata": {
        "colab": {
          "base_uri": "https://localhost:8080/"
        },
        "id": "BSE5IrVng2aa",
        "outputId": "5bddfa67-13fc-4b17-f5ac-3ea30eb44c51"
      },
      "execution_count": 5,
      "outputs": [
        {
          "output_type": "stream",
          "name": "stdout",
          "text": [
            "Probabilidades (b): [0.4, 0.17, 0.01, 0.04, 0.08, 0.01, 0.04, 0.02, 0.01, 0.21999999999999986]\n",
            "Suma probabilidades: 1.0\n"
          ]
        }
      ]
    },
    {
      "cell_type": "markdown",
      "source": [],
      "metadata": {
        "id": "IsHhXDYZgvZ2"
      }
    }
  ]
}