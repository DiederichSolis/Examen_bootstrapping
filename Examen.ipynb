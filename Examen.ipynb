{
  "nbformat": 4,
  "nbformat_minor": 0,
  "metadata": {
    "colab": {
      "provenance": []
    },
    "kernelspec": {
      "name": "python3",
      "display_name": "Python 3"
    },
    "language_info": {
      "name": "python"
    }
  },
  "cells": [
    {
      "cell_type": "markdown",
      "source": [
        "## a) Set de 10 valores dados por el catedrático\n",
        "Los siguientes son los 10 valores base para el ejercicio:"
      ],
      "metadata": {
        "id": "-lpXGR-GgsqN"
      }
    },
    {
      "cell_type": "code",
      "source": [
        "import numpy as np\n",
        "import matplotlib.pyplot as plt\n",
        "\n",
        "# Semilla para reproducibilidad\n",
        "np.random.seed(42)\n",
        "\n",
        "# (a) Set de 10 valores\n",
        "data = np.array([8, 8, 5, 9, 8, 10, 8, 7, 10, 1], dtype=float)\n",
        "\n",
        "print(\"Valores (a):\", data.tolist())\n",
        "print(\"Media original:\", data.mean())\n"
      ],
      "metadata": {
        "colab": {
          "base_uri": "https://localhost:8080/"
        },
        "id": "xALIP_hggxDn",
        "outputId": "72b1d5ec-4e36-4aa4-948a-14bcb99b1f05"
      },
      "execution_count": 4,
      "outputs": [
        {
          "output_type": "stream",
          "name": "stdout",
          "text": [
            "Valores (a): [8.0, 8.0, 5.0, 9.0, 8.0, 10.0, 8.0, 7.0, 10.0, 1.0]\n",
            "Media original: 7.4\n"
          ]
        }
      ]
    },
    {
      "cell_type": "markdown",
      "source": [
        "## b) Set de 10 valores de probabilidad dados por el catedrático\n",
        "Las probabilidades asociadas (para usar con Transformada Inversa) son:"
      ],
      "metadata": {
        "id": "ub169dXvgy2y"
      }
    },
    {
      "cell_type": "code",
      "source": [
        "# (b) Probabilidades (puede haber pequeño redondeo; se normaliza)\n",
        "p = np.array([0.4, 0.17, 0.01, 0.04, 0.08, 0.01, 0.04, 0.02, 0.01, 0.21999999999999986], dtype=float)\n",
        "p = p / p.sum()  # normalizar por si hay mínimos errores de redondeo\n",
        "\n",
        "print(\"Probabilidades (b):\", p.tolist())\n",
        "print(\"Suma probabilidades:\", p.sum())\n"
      ],
      "metadata": {
        "colab": {
          "base_uri": "https://localhost:8080/"
        },
        "id": "BSE5IrVng2aa",
        "outputId": "5bddfa67-13fc-4b17-f5ac-3ea30eb44c51"
      },
      "execution_count": 5,
      "outputs": [
        {
          "output_type": "stream",
          "name": "stdout",
          "text": [
            "Probabilidades (b): [0.4, 0.17, 0.01, 0.04, 0.08, 0.01, 0.04, 0.02, 0.01, 0.21999999999999986]\n",
            "Suma probabilidades: 1.0\n"
          ]
        }
      ]
    },
    {
      "cell_type": "markdown",
      "source": [
        "## c) Explicación del método de Bootstrapping\n",
        "Bootstrapping es un método de remuestreo con reemplazo que genera muchas réplicas de la muestra original para aproximar la distribución de un estadístico (por ejemplo, la media). Cada réplica se obtiene seleccionando observaciones al azar (con reemplazo) de la muestra original usando un generador de aleatoriedad. Con estas réplicas se calculan medias, desviaciones y cuantiles para estimar incertidumbre (error estándar, intervalos de confianza) sin requerir supuestos fuertes de normalidad. En este examen, además, las selecciones se realizan mediante Transformada Inversa usando las probabilidades proporcionadas por el catedrático."
      ],
      "metadata": {
        "id": "R8NHnN2JhW9a"
      }
    },
    {
      "cell_type": "markdown",
      "source": [
        "# d) Código de método de Bootstrapping\n",
        " d.i) Código de método de Transformada Inversa (discreta)\n",
        "\n"
      ],
      "metadata": {
        "id": "FWTttQu2hfOB"
      }
    },
    {
      "cell_type": "code",
      "source": [
        "# Utilidades para transformada inversa discreta\n",
        "cdf = np.cumsum(p)\n",
        "\n",
        "def inv_transform_discrete(cdf, u):\n",
        "    \"\"\"\n",
        "    Dada una CDF discreta (numpy array creciente) y u ~ U(0,1),\n",
        "    retorna el índice i tal que CDF[i-1] < u <= CDF[i].\n",
        "    \"\"\"\n",
        "    return int(np.searchsorted(cdf, u, side='left'))\n",
        "\n",
        "# Centrar los datos a media 0 (opcional, útil para verificar sesgo en las medias bootstrap)\n",
        "media_original = data.mean()\n",
        "data_offset = data - media_original\n",
        "\n",
        "B = 10_000      # réplicas bootstrap\n",
        "N = len(data)   # tamaño de muestra por réplica\n",
        "\n",
        "bootstrap_means = np.empty(B, dtype=float)\n",
        "\n",
        "# Usamos U(0,1) de NumPy para este bloque\n",
        "U = np.random.rand(B * N)\n",
        "pos = 0\n",
        "for b in range(B):\n",
        "    idxs = [inv_transform_discrete(cdf, U[pos + i]) for i in range(N)]\n",
        "    pos += N\n",
        "    sample = data_offset[idxs]    # muestra centrada\n",
        "    bootstrap_means[b] = sample.mean()\n",
        "\n",
        "print(\"Resumen bootstrap (medias de datos centrados):\")\n",
        "print(\"  Media de las medias (≈ 0 por centrado):\", bootstrap_means.mean())\n",
        "print(\"  Desviación estándar (std) de las medias:\", bootstrap_means.std(ddof=1))\n",
        "\n"
      ],
      "metadata": {
        "colab": {
          "base_uri": "https://localhost:8080/"
        },
        "id": "R-PujGEGhqih",
        "outputId": "de34fdeb-c7d1-4d6c-b6e0-20c5d667918f"
      },
      "execution_count": 7,
      "outputs": [
        {
          "output_type": "stream",
          "name": "stdout",
          "text": [
            "Resumen bootstrap (medias de datos centrados):\n",
            "  Media de las medias (≈ 0 por centrado): -0.9043900000000001\n",
            "  Desviación estándar (std) de las medias: 0.9332367443377366\n"
          ]
        }
      ]
    },
    {
      "cell_type": "markdown",
      "source": [
        "## d.ii) Histograma de resultados (medias bootstrap)"
      ],
      "metadata": {
        "id": "_TOndcn9iGuH"
      }
    },
    {
      "cell_type": "code",
      "source": [
        "plt.figure(figsize=(7,4))\n",
        "plt.hist(bootstrap_means, bins=40, edgecolor='black')\n",
        "plt.title(\"Histograma: Distribución de Medias (Bootstrap, datos centrados)\")\n",
        "plt.xlabel(\"Media bootstrap\")\n",
        "plt.ylabel(\"Frecuencia\")\n",
        "plt.show()\n"
      ],
      "metadata": {
        "colab": {
          "base_uri": "https://localhost:8080/",
          "height": 411
        },
        "id": "F9vMi6thiKpd",
        "outputId": "9ca7b945-cbb3-4dc7-ea08-81ac43c3470c"
      },
      "execution_count": 8,
      "outputs": [
        {
          "output_type": "display_data",
          "data": {
            "text/plain": [
              "<Figure size 700x400 with 1 Axes>"
            ],
            "image/png": "[encoded data removed]"
          },
          "metadata": {}
        }
      ]
    },
    {
      "cell_type": "markdown",
      "source": [
        "## d.iii) Desviación estándar de la distribución de medias"
      ],
      "metadata": {
        "id": "l1X3izKSiOEY"
      }
    },
    {
      "cell_type": "code",
      "source": [
        "std_bootstrap_means = bootstrap_means.std(ddof=1)\n",
        "print(\"Desviación estándar de la distribución de medias (d.iii):\", std_bootstrap_means)\n"
      ],
      "metadata": {
        "colab": {
          "base_uri": "https://localhost:8080/"
        },
        "id": "CWwSxGuOiQGx",
        "outputId": "11432a7f-7759-44c3-b530-db214bb9097e"
      },
      "execution_count": 9,
      "outputs": [
        {
          "output_type": "stream",
          "name": "stdout",
          "text": [
            "Desviación estándar de la distribución de medias (d.iii): 0.9332367443377366\n"
          ]
        }
      ]
    },
    {
      "cell_type": "markdown",
      "source": [
        "##e) Cálculo de probabilidades para cada rango de la distribución de medias\n",
        "Se divide la distribución de medias en 5 rangos uniformes (mismo ancho) y se estima la probabilidad empírica en cada rango.xx"
      ],
      "metadata": {
        "id": "dBpBZAQRihRJ"
      }
    },
    {
      "cell_type": "code",
      "source": [
        "bins = 5\n",
        "min_m, max_m = bootstrap_means.min(), bootstrap_means.max()\n",
        "edges = np.linspace(min_m, max_m, bins + 1)   # 6 bordes => 5 rangos\n",
        "counts, _ = np.histogram(bootstrap_means, bins=edges)\n",
        "prob_bins = counts / counts.sum()\n",
        "bin_centers = 0.5 * (edges[:-1] + edges[1:])\n",
        "\n",
        "print(\"Rangos y probabilidades (e):\")\n",
        "for i in range(bins):\n",
        "    a, b_ = edges[i], edges[i+1]\n",
        "    print(f\"  Bin {i+1}: [{a:.6f}, {b_:.6f}) -> P = {prob_bins[i]:.6f}\")\n"
      ],
      "metadata": {
        "colab": {
          "base_uri": "https://localhost:8080/"
        },
        "id": "LGE_VSS1ijUO",
        "outputId": "1fe5e4a3-b33e-4a9f-bcf1-62c2acf357f9"
      },
      "execution_count": 10,
      "outputs": [
        {
          "output_type": "stream",
          "name": "stdout",
          "text": [
            "Rangos y probabilidades (e):\n",
            "  Bin 1: [-5.000000, -3.760000) -> P = 0.003200\n",
            "  Bin 2: [-3.760000, -2.520000) -> P = 0.044300\n",
            "  Bin 3: [-2.520000, -1.280000) -> P = 0.320300\n",
            "  Bin 4: [-1.280000, -0.040000) -> P = 0.452800\n",
            "  Bin 5: [-0.040000, 1.200000) -> P = 0.179400\n"
          ]
        }
      ]
    }
  ]
}